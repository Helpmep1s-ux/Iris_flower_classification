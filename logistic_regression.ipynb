{
 "cells": [
  {
   "cell_type": "markdown",
   "id": "603ee01f",
   "metadata": {},
   "source": [
    "## Logistic Regression"
   ]
  },
  {
   "cell_type": "code",
   "execution_count": 1,
   "id": "6280e6b3",
   "metadata": {},
   "outputs": [],
   "source": [
    "import numpy as np\n",
    "import pandas as pd\n",
    "from tqdm import tqdm\n",
    "import matplotlib.pyplot as plt"
   ]
  },
  {
   "cell_type": "code",
   "execution_count": 2,
   "id": "6a3d341c",
   "metadata": {},
   "outputs": [],
   "source": [
    "class LogisticRegressor:\n",
    "    def __init__(self) -> None:\n",
    "        self.theta = None\n",
    "\n",
    "    def sigmoid(self, z: np.array) -> np.array:\n",
    "        \"\"\"Generates Sigmoid function array of input array\n",
    "\n",
    "        Args:\n",
    "            z (np.array): Input values\n",
    "\n",
    "        Returns:\n",
    "            np.array: Output of Sigmoid function\n",
    "        \"\"\"\n",
    "        return 1/(1 + np.exp(-z))\n",
    "    \n",
    "\n",
    "    def bce_loss(self, y: np.array, y_pred: np.array)->float:\n",
    "        \"\"\"Calculate Binray Cross Entropy Loss\n",
    "\n",
    "        Args:\n",
    "            y (np.array): Actual target vector of shape(m, 1)\n",
    "            y_pred (np.array): Predicted target vector of shape (m, 1)\n",
    "\n",
    "        Returns:\n",
    "            float: BCE LOSS\n",
    "        \"\"\"\n",
    "        \n",
    "        m = y.shape[0]\n",
    "        loss = -(y * np.log(y_pred) + (1 - y) * np.log(1 - y_pred)).sum() / (m)\n",
    "        \n",
    "        return loss\n",
    "    \n",
    "    def R2_score(self, y: np.array, y_pred: np.array) -> float:\n",
    "        \"\"\"Calculate R2 Score\n",
    "\n",
    "        Args:\n",
    "            y (np.array): Actual target vector of shape(m, 1)\n",
    "            y_pred (np.array): Predicted target vector of shape (m, 1)\n",
    "\n",
    "        Returns:\n",
    "            float: R2 Score\n",
    "        \"\"\"\n",
    "        R2 = 1 - (((y_pred - y)**2).sum() / (((y - y.mean())**2).sum()))\n",
    "        return R2\n",
    "\n",
    "    def calculate_gradients(self, X: np.array, y: np.array, y_pred: np.array)->np.array:\n",
    "        \"\"\"Calculate the gradient array of BCE loss\n",
    "\n",
    "        Args:\n",
    "            X (np.array): Feature matrix of shape (m, n) where m = number of rows/data samples and n = number of columns/features\n",
    "            y (np.array): Actual target vector of shape (m, 1)\n",
    "            y_pred (np.array): Predicted target vector of shape (m, 1)\n",
    "\n",
    "        Returns:\n",
    "            np.array: Gradient array\n",
    "        \"\"\"\n",
    "        m = y.shape[0]\n",
    "        n = X.shape[1]\n",
    "\n",
    "        gradient = np.zeros((1, n+1))\n",
    "        \n",
    "        new_dimension = np.ones((X.shape[0],1))\n",
    "        X_train = np.hstack((new_dimension, X))\n",
    "\n",
    "        gradient = ((y_pred - y).T @ X_train)/m\n",
    "        return gradient\n",
    "\n",
    "    def gradient_descent(self, alpha: float, theta: np.array, gradient: np.array)->np.array:\n",
    "        \"\"\"Update the parameters using gradient descent\n",
    "\n",
    "        Args:\n",
    "            alpha (float): Learning rate\n",
    "            theta (np.array): Parameters of model of shae (n+1, 1)\n",
    "            gradeint (np.array): Gradeints of loss function of shape (1, n+1)\n",
    "\n",
    "        Returns:\n",
    "            np.array: Updated value of parameters of shape (n+1, 1)\n",
    "        \"\"\"\n",
    "        theta = theta - alpha * gradient.T\n",
    "        return theta\n",
    "        \n",
    "    def train(self, X_train: np.array,X_val: np.array, y_train: np.array, y_val: np.array, n_iters: int, alpha: float):\n",
    "        \"\"\"Train through given datas for n iterations\n",
    "\n",
    "        Args:\n",
    "            X_train (np.array): Feature matrix of shape (m, n) where m = number of rows/data samples and n = number of columns/features\n",
    "            X_val (np.array): Validation set\n",
    "            y (np.array): Target vector of shape (m, 1)\n",
    "            n_iters (int): Number of times to iterate\n",
    "            alpha (float): Learning rate\n",
    "\n",
    "        Returns:\n",
    "            theta, history: (Function parameters, history)\n",
    "        \"\"\"\n",
    "        m = X_train.shape[0]\n",
    "        n = X_train.shape[1]\n",
    "\n",
    "        theta = np.zeros((n+1, 1))\n",
    "\n",
    "        new_dimension = np.ones((m,1))\n",
    "        X_train_1 = np.hstack((new_dimension, X_train))\n",
    "\n",
    "        new_dimension = np.ones((X_val.shape[0], 1))\n",
    "        X_val_1 = np.hstack((new_dimension, X_val))\n",
    "\n",
    "        history = {\n",
    "            \"loss_train\": [],\n",
    "            \"loss_val\": [],\n",
    "            \"r2_score\" : [],\n",
    "            \"theta\": []\n",
    "        }\n",
    "\n",
    "        for i in tqdm(range(n_iters)):\n",
    "            y_pred_train = X_train_1 @ theta\n",
    "            y_pred_train = self.sigmoid(y_pred_train)\n",
    "            history[\"loss_train\"].append(self.bce_loss(y_train, y_pred_train))\n",
    "            # history[\"r2_score\"].append(self.R2_score(y_train, y_pred_train))\n",
    "            gradient = self.calculate_gradients(X_train,y_train,y_pred_train)\n",
    "            theta = self.gradient_descent(alpha, theta, gradient)\n",
    "            history[\"theta\"].append(theta)\n",
    "\n",
    "            y_pred_val = self.sigmoid(X_val_1 @ theta)\n",
    "            history[\"loss_val\"].append(self.bce_loss(y_val, y_pred_val))\n",
    "\n",
    "        # print(y_pred_train)\n",
    "        self.theta = theta\n",
    "        return history\n",
    "    \n",
    "    def predict(self, X: np.array) -> float:\n",
    "        \"\"\"Predicts the value of y using X\n",
    "\n",
    "        Args:\n",
    "            X (np.array): Array of features\n",
    "\n",
    "        Returns:\n",
    "            float: Predicted values\n",
    "        \"\"\"\n",
    "\n",
    "        X = X.reshape(X.shape[0], -1)\n",
    "        new_dimension = np.ones((X.shape[0],1))\n",
    "        X_new = np.hstack((new_dimension, X))\n",
    "\n",
    "        return self.sigmoid(X_new @ self.theta)"
   ]
  },
  {
   "cell_type": "code",
   "execution_count": 3,
   "id": "e5233b6d",
   "metadata": {},
   "outputs": [],
   "source": [
    "df = pd.read_csv(\"./train.csv\")"
   ]
  },
  {
   "cell_type": "code",
   "execution_count": 4,
   "id": "d9fa3a65",
   "metadata": {},
   "outputs": [
    {
     "data": {
      "text/html": [
       "<div>\n",
       "<style scoped>\n",
       "    .dataframe tbody tr th:only-of-type {\n",
       "        vertical-align: middle;\n",
       "    }\n",
       "\n",
       "    .dataframe tbody tr th {\n",
       "        vertical-align: top;\n",
       "    }\n",
       "\n",
       "    .dataframe thead th {\n",
       "        text-align: right;\n",
       "    }\n",
       "</style>\n",
       "<table border=\"1\" class=\"dataframe\">\n",
       "  <thead>\n",
       "    <tr style=\"text-align: right;\">\n",
       "      <th></th>\n",
       "      <th>sepal_length</th>\n",
       "      <th>sepal_width</th>\n",
       "      <th>petal_length</th>\n",
       "      <th>petal_width</th>\n",
       "      <th>class_Iris-setosa</th>\n",
       "      <th>class_Iris-versicolor</th>\n",
       "      <th>class_Iris-virginica</th>\n",
       "    </tr>\n",
       "  </thead>\n",
       "  <tbody>\n",
       "    <tr>\n",
       "      <th>0</th>\n",
       "      <td>5.1</td>\n",
       "      <td>3.5</td>\n",
       "      <td>1.4</td>\n",
       "      <td>0.2</td>\n",
       "      <td>1</td>\n",
       "      <td>0</td>\n",
       "      <td>0</td>\n",
       "    </tr>\n",
       "    <tr>\n",
       "      <th>1</th>\n",
       "      <td>4.9</td>\n",
       "      <td>3.0</td>\n",
       "      <td>1.4</td>\n",
       "      <td>0.2</td>\n",
       "      <td>1</td>\n",
       "      <td>0</td>\n",
       "      <td>0</td>\n",
       "    </tr>\n",
       "    <tr>\n",
       "      <th>2</th>\n",
       "      <td>4.7</td>\n",
       "      <td>3.2</td>\n",
       "      <td>1.3</td>\n",
       "      <td>0.2</td>\n",
       "      <td>1</td>\n",
       "      <td>0</td>\n",
       "      <td>0</td>\n",
       "    </tr>\n",
       "    <tr>\n",
       "      <th>3</th>\n",
       "      <td>4.6</td>\n",
       "      <td>3.1</td>\n",
       "      <td>1.5</td>\n",
       "      <td>0.2</td>\n",
       "      <td>1</td>\n",
       "      <td>0</td>\n",
       "      <td>0</td>\n",
       "    </tr>\n",
       "    <tr>\n",
       "      <th>4</th>\n",
       "      <td>5.0</td>\n",
       "      <td>3.6</td>\n",
       "      <td>1.4</td>\n",
       "      <td>0.2</td>\n",
       "      <td>1</td>\n",
       "      <td>0</td>\n",
       "      <td>0</td>\n",
       "    </tr>\n",
       "  </tbody>\n",
       "</table>\n",
       "</div>"
      ],
      "text/plain": [
       "   sepal_length  sepal_width  petal_length  petal_width  class_Iris-setosa  \\\n",
       "0           5.1          3.5           1.4          0.2                  1   \n",
       "1           4.9          3.0           1.4          0.2                  1   \n",
       "2           4.7          3.2           1.3          0.2                  1   \n",
       "3           4.6          3.1           1.5          0.2                  1   \n",
       "4           5.0          3.6           1.4          0.2                  1   \n",
       "\n",
       "   class_Iris-versicolor  class_Iris-virginica  \n",
       "0                      0                     0  \n",
       "1                      0                     0  \n",
       "2                      0                     0  \n",
       "3                      0                     0  \n",
       "4                      0                     0  "
      ]
     },
     "execution_count": 4,
     "metadata": {},
     "output_type": "execute_result"
    }
   ],
   "source": [
    "df.head()"
   ]
  },
  {
   "cell_type": "markdown",
   "id": "59e8b858",
   "metadata": {},
   "source": [
    "Train_Test_Validation spliting"
   ]
  },
  {
   "cell_type": "code",
   "execution_count": 5,
   "id": "9df72df2",
   "metadata": {},
   "outputs": [
    {
     "data": {
      "text/plain": [
       "((150, 7), (90, 7), (30, 7), (30, 7))"
      ]
     },
     "execution_count": 5,
     "metadata": {},
     "output_type": "execute_result"
    }
   ],
   "source": [
    "df_train = df.sample(frac=0.6)\n",
    "df_test = df.drop(df_train.index)\n",
    "df_val = df_test.sample(frac=0.5, random_state=2)\n",
    "df_test = df_test.drop(df_val.index)\n",
    "\n",
    "df.shape, df_train.shape, df_test.shape, df_val.shape"
   ]
  },
  {
   "cell_type": "markdown",
   "id": "65f04089",
   "metadata": {},
   "source": [
    "Normalization of data"
   ]
  },
  {
   "cell_type": "code",
   "execution_count": 6,
   "id": "295f1ed2",
   "metadata": {},
   "outputs": [],
   "source": [
    "columns = ['sepal_length', 'sepal_width', 'petal_length', 'petal_width']\n",
    "\n",
    "for column in columns:\n",
    "    mean = df_train[column].mean()\n",
    "    std = df_train[column].std()\n",
    "    df_train[f\"{column}_normalized\"] = (df_train[column] - mean) / std\n",
    "    df_val[f\"{column}_normalized\"] = (df_val[column] - mean) / std\n",
    "    df_test[f\"{column}_normalized\"] = (df_test[column] - mean) / std\n",
    "    df[f\"{column}_normalized\"] = (df[column] - mean) / std"
   ]
  },
  {
   "cell_type": "code",
   "execution_count": 7,
   "id": "34e3030f",
   "metadata": {},
   "outputs": [
    {
     "data": {
      "text/html": [
       "<div>\n",
       "<style scoped>\n",
       "    .dataframe tbody tr th:only-of-type {\n",
       "        vertical-align: middle;\n",
       "    }\n",
       "\n",
       "    .dataframe tbody tr th {\n",
       "        vertical-align: top;\n",
       "    }\n",
       "\n",
       "    .dataframe thead th {\n",
       "        text-align: right;\n",
       "    }\n",
       "</style>\n",
       "<table border=\"1\" class=\"dataframe\">\n",
       "  <thead>\n",
       "    <tr style=\"text-align: right;\">\n",
       "      <th></th>\n",
       "      <th>sepal_length</th>\n",
       "      <th>sepal_width</th>\n",
       "      <th>petal_length</th>\n",
       "      <th>petal_width</th>\n",
       "      <th>class_Iris-setosa</th>\n",
       "      <th>class_Iris-versicolor</th>\n",
       "      <th>class_Iris-virginica</th>\n",
       "      <th>sepal_length_normalized</th>\n",
       "      <th>sepal_width_normalized</th>\n",
       "      <th>petal_length_normalized</th>\n",
       "      <th>petal_width_normalized</th>\n",
       "    </tr>\n",
       "  </thead>\n",
       "  <tbody>\n",
       "    <tr>\n",
       "      <th>0</th>\n",
       "      <td>5.1</td>\n",
       "      <td>3.5</td>\n",
       "      <td>1.4</td>\n",
       "      <td>0.2</td>\n",
       "      <td>1</td>\n",
       "      <td>0</td>\n",
       "      <td>0</td>\n",
       "      <td>-0.943374</td>\n",
       "      <td>1.092620</td>\n",
       "      <td>-1.374556</td>\n",
       "      <td>-1.359511</td>\n",
       "    </tr>\n",
       "    <tr>\n",
       "      <th>1</th>\n",
       "      <td>4.9</td>\n",
       "      <td>3.0</td>\n",
       "      <td>1.4</td>\n",
       "      <td>0.2</td>\n",
       "      <td>1</td>\n",
       "      <td>0</td>\n",
       "      <td>0</td>\n",
       "      <td>-1.185610</td>\n",
       "      <td>-0.083646</td>\n",
       "      <td>-1.374556</td>\n",
       "      <td>-1.359511</td>\n",
       "    </tr>\n",
       "    <tr>\n",
       "      <th>2</th>\n",
       "      <td>4.7</td>\n",
       "      <td>3.2</td>\n",
       "      <td>1.3</td>\n",
       "      <td>0.2</td>\n",
       "      <td>1</td>\n",
       "      <td>0</td>\n",
       "      <td>0</td>\n",
       "      <td>-1.427846</td>\n",
       "      <td>0.386861</td>\n",
       "      <td>-1.431174</td>\n",
       "      <td>-1.359511</td>\n",
       "    </tr>\n",
       "    <tr>\n",
       "      <th>3</th>\n",
       "      <td>4.6</td>\n",
       "      <td>3.1</td>\n",
       "      <td>1.5</td>\n",
       "      <td>0.2</td>\n",
       "      <td>1</td>\n",
       "      <td>0</td>\n",
       "      <td>0</td>\n",
       "      <td>-1.548964</td>\n",
       "      <td>0.151608</td>\n",
       "      <td>-1.317938</td>\n",
       "      <td>-1.359511</td>\n",
       "    </tr>\n",
       "    <tr>\n",
       "      <th>4</th>\n",
       "      <td>5.0</td>\n",
       "      <td>3.6</td>\n",
       "      <td>1.4</td>\n",
       "      <td>0.2</td>\n",
       "      <td>1</td>\n",
       "      <td>0</td>\n",
       "      <td>0</td>\n",
       "      <td>-1.064492</td>\n",
       "      <td>1.327873</td>\n",
       "      <td>-1.374556</td>\n",
       "      <td>-1.359511</td>\n",
       "    </tr>\n",
       "  </tbody>\n",
       "</table>\n",
       "</div>"
      ],
      "text/plain": [
       "   sepal_length  sepal_width  petal_length  petal_width  class_Iris-setosa  \\\n",
       "0           5.1          3.5           1.4          0.2                  1   \n",
       "1           4.9          3.0           1.4          0.2                  1   \n",
       "2           4.7          3.2           1.3          0.2                  1   \n",
       "3           4.6          3.1           1.5          0.2                  1   \n",
       "4           5.0          3.6           1.4          0.2                  1   \n",
       "\n",
       "   class_Iris-versicolor  class_Iris-virginica  sepal_length_normalized  \\\n",
       "0                      0                     0                -0.943374   \n",
       "1                      0                     0                -1.185610   \n",
       "2                      0                     0                -1.427846   \n",
       "3                      0                     0                -1.548964   \n",
       "4                      0                     0                -1.064492   \n",
       "\n",
       "   sepal_width_normalized  petal_length_normalized  petal_width_normalized  \n",
       "0                1.092620                -1.374556               -1.359511  \n",
       "1               -0.083646                -1.374556               -1.359511  \n",
       "2                0.386861                -1.431174               -1.359511  \n",
       "3                0.151608                -1.317938               -1.359511  \n",
       "4                1.327873                -1.374556               -1.359511  "
      ]
     },
     "execution_count": 7,
     "metadata": {},
     "output_type": "execute_result"
    }
   ],
   "source": [
    "df.head()"
   ]
  },
  {
   "cell_type": "code",
   "execution_count": 8,
   "id": "fcc72b18",
   "metadata": {},
   "outputs": [
    {
     "data": {
      "text/plain": [
       "(class_Iris-versicolor\n",
       " 0    60\n",
       " 1    30\n",
       " Name: count, dtype: int64,\n",
       " class_Iris-versicolor\n",
       " 0    21\n",
       " 1     9\n",
       " Name: count, dtype: int64,\n",
       " class_Iris-versicolor\n",
       " 0    19\n",
       " 1    11\n",
       " Name: count, dtype: int64)"
      ]
     },
     "execution_count": 8,
     "metadata": {},
     "output_type": "execute_result"
    }
   ],
   "source": [
    "df_train[\"class_Iris-versicolor\"].value_counts() , df_val[\"class_Iris-versicolor\"].value_counts(), df_test[\"class_Iris-versicolor\"].value_counts()"
   ]
  },
  {
   "cell_type": "code",
   "execution_count": 9,
   "id": "d1c2cfc6",
   "metadata": {},
   "outputs": [
    {
     "data": {
      "text/plain": [
       "(class_Iris-virginica\n",
       " 0    59\n",
       " 1    31\n",
       " Name: count, dtype: int64,\n",
       " class_Iris-virginica\n",
       " 0    19\n",
       " 1    11\n",
       " Name: count, dtype: int64,\n",
       " class_Iris-virginica\n",
       " 0    22\n",
       " 1     8\n",
       " Name: count, dtype: int64)"
      ]
     },
     "execution_count": 9,
     "metadata": {},
     "output_type": "execute_result"
    }
   ],
   "source": [
    "df_train[\"class_Iris-virginica\"].value_counts() , df_val[\"class_Iris-virginica\"].value_counts(), df_test[\"class_Iris-virginica\"].value_counts()"
   ]
  },
  {
   "cell_type": "markdown",
   "id": "717a6e45",
   "metadata": {},
   "source": [
    "Seperating dataset into two datasets : 0 vs 1,2 and 1 vs 2"
   ]
  },
  {
   "cell_type": "code",
   "execution_count": 10,
   "id": "365dcfdf",
   "metadata": {},
   "outputs": [],
   "source": [
    "columns.append('class_Iris-versicolor')\n",
    "columns.append('class_Iris-virginica')\n",
    "columns.append('class_Iris-setosa')"
   ]
  },
  {
   "cell_type": "code",
   "execution_count": 11,
   "id": "539202e8",
   "metadata": {},
   "outputs": [],
   "source": [
    "y_train_versicolor = df_train[\"class_Iris-versicolor\"].values.reshape(-1, 1)\n",
    "y_train_virginica = df_train[\"class_Iris-virginica\"].values.reshape(-1, 1)\n",
    "y_train_setosa = df_train[\"class_Iris-setosa\"].values.reshape(-1, 1)\n",
    "X_train = df_train.drop(columns, axis=1).values\n",
    "y_val_versicolor = df_val[\"class_Iris-versicolor\"].values.reshape(-1, 1)\n",
    "y_val_virginica = df_val[\"class_Iris-virginica\"].values.reshape(-1, 1)\n",
    "y_val_setosa = df_val[\"class_Iris-setosa\"].values.reshape(-1, 1)\n",
    "X_val = df_val.drop(columns, axis=1).values"
   ]
  },
  {
   "cell_type": "markdown",
   "id": "828e8125",
   "metadata": {},
   "source": [
    "Creating test sets"
   ]
  },
  {
   "cell_type": "code",
   "execution_count": 12,
   "id": "c7936aa8",
   "metadata": {},
   "outputs": [],
   "source": [
    "# y_test_versicolor = df_test[\"class_Iris-versicolor\"].values.reshape(-1, 1)\n",
    "# y_test_virginica = df_test[\"class_Iris-virginica\"].values.reshape(-1, 1)\n",
    "\n",
    "# y_test = y_test_versicolor*1 + y_test_virginica*2    # 0 represents setosa, 1 represents versicolor and 2 represents virginica\n",
    "\n",
    "# X_test = df_test.drop(columns, axis=1).values\n",
    "\n",
    "# y_train_versicolor.shape, y_train_virginica.shape, y_train_setosa.shape, X_train.shape, y_val_versicolor.shape, y_val_virginica.shape, y_val_setosa.shape, X_val.shape"
   ]
  },
  {
   "cell_type": "code",
   "execution_count": 13,
   "id": "3d9fb4a2",
   "metadata": {},
   "outputs": [],
   "source": [
    "y_test_versicolor = df[\"class_Iris-versicolor\"].values.reshape(-1, 1)\n",
    "y_test_virginica = df[\"class_Iris-virginica\"].values.reshape(-1, 1)\n",
    "\n",
    "y_test = y_test_versicolor*1 + y_test_virginica*2    # 0 represents setosa, 1 represents versicolor and 2 represents virginica\n",
    "\n",
    "X_test = df.drop(columns, axis=1).values"
   ]
  },
  {
   "cell_type": "code",
   "execution_count": 14,
   "id": "9892d494",
   "metadata": {},
   "outputs": [
    {
     "data": {
      "text/plain": [
       "(150, 1)"
      ]
     },
     "execution_count": 14,
     "metadata": {},
     "output_type": "execute_result"
    }
   ],
   "source": [
    "y_test.shape"
   ]
  },
  {
   "cell_type": "code",
   "execution_count": 15,
   "id": "e57a8e53",
   "metadata": {},
   "outputs": [
    {
     "name": "stderr",
     "output_type": "stream",
     "text": [
      "100%|██████████| 2500/2500 [00:00<00:00, 24585.03it/s]\n",
      "100%|██████████| 2500/2500 [00:00<00:00, 25949.07it/s]\n",
      "100%|██████████| 2500/2500 [00:00<00:00, 25322.66it/s]\n"
     ]
    }
   ],
   "source": [
    "model_versicolor = LogisticRegressor()\n",
    "model_virginica = LogisticRegressor()\n",
    "model_setosa = LogisticRegressor()\n",
    "\n",
    "n_iters = 2500\n",
    "alpha = 0.01\n",
    "\n",
    "history_versicolor = model_versicolor.train(X_train, X_val, y_train_versicolor, y_val_versicolor, n_iters, alpha)\n",
    "history_virginica = model_virginica.train(X_train, X_val, y_train_virginica, y_val_virginica, n_iters, alpha)\n",
    "history_setosa = model_setosa.train(X_train, X_val, y_train_setosa, y_val_setosa, n_iters, alpha)"
   ]
  },
  {
   "cell_type": "code",
   "execution_count": 16,
   "id": "f36c7b04",
   "metadata": {},
   "outputs": [
    {
     "data": {
      "image/png": "[encoded data removed]",
      "text/plain": [
       "<Figure size 500x300 with 1 Axes>"
      ]
     },
     "metadata": {},
     "output_type": "display_data"
    }
   ],
   "source": [
    "fig=plt.figure(figsize=(5, 3))\n",
    "counts=np.linspace(1, n_iters, n_iters)\n",
    "plt.plot(counts, history_versicolor[\"loss_train\"], label=\"Train Loss\")\n",
    "plt.plot(counts, history_versicolor[\"loss_val\"], label=\"Validation Loss\")\n",
    "plt.xlabel(\"Iterations\")\n",
    "plt.ylabel(\"BCE Loss\")\n",
    "plt.title(\"Cross Entropy Loss Cruve Versicolor\")\n",
    "plt.legend()\n",
    "plt.show()"
   ]
  },
  {
   "cell_type": "code",
   "execution_count": 17,
   "id": "75a3f86a",
   "metadata": {},
   "outputs": [
    {
     "data": {
      "image/png": "[encoded data removed]",
      "text/plain": [
       "<Figure size 500x300 with 1 Axes>"
      ]
     },
     "metadata": {},
     "output_type": "display_data"
    }
   ],
   "source": [
    "fig=plt.figure(figsize=(5, 3))\n",
    "counts=np.linspace(1, n_iters, n_iters)\n",
    "plt.plot(counts, history_virginica[\"loss_train\"], label=\"Train Loss\")\n",
    "plt.plot(counts, history_virginica[\"loss_val\"], label=\"Validation Loss\")\n",
    "plt.xlabel(\"Iterations\")\n",
    "plt.ylabel(\"BCE Loss\")\n",
    "plt.title(\"Cross Entropy Loss Cruve Virginica\")\n",
    "plt.legend()\n",
    "plt.show()"
   ]
  },
  {
   "cell_type": "code",
   "execution_count": 18,
   "id": "b7ab3916",
   "metadata": {},
   "outputs": [
    {
     "data": {
      "image/png": "[encoded data removed]",
      "text/plain": [
       "<Figure size 500x300 with 1 Axes>"
      ]
     },
     "metadata": {},
     "output_type": "display_data"
    }
   ],
   "source": [
    "fig=plt.figure(figsize=(5, 3))\n",
    "counts=np.linspace(1, n_iters, n_iters)\n",
    "plt.plot(counts, history_setosa[\"loss_train\"], label=\"Train Loss\")\n",
    "plt.plot(counts, history_setosa[\"loss_val\"], label=\"Validation Loss\")\n",
    "plt.xlabel(\"Iterations\")\n",
    "plt.ylabel(\"BCE Loss\")\n",
    "plt.title(\"Cross Entropy Loss Cruve Setosa\")\n",
    "plt.legend()\n",
    "plt.show()"
   ]
  },
  {
   "cell_type": "markdown",
   "id": "c4a4db8e",
   "metadata": {},
   "source": [
    "Versicolor has high BCE LOSS so ignoring that model"
   ]
  },
  {
   "cell_type": "code",
   "execution_count": 19,
   "id": "f83f3ed4",
   "metadata": {},
   "outputs": [],
   "source": [
    "p0 = model_setosa.predict(X_test)\n",
    "p1 = np.ones((X_test.shape[0], 1), dtype=int)\n",
    "p2 = model_virginica.predict(X_test)"
   ]
  },
  {
   "cell_type": "code",
   "execution_count": 20,
   "id": "92b6132d",
   "metadata": {},
   "outputs": [],
   "source": [
    "threshold = 0.5"
   ]
  },
  {
   "cell_type": "code",
   "execution_count": 21,
   "id": "a1e31e5e",
   "metadata": {},
   "outputs": [],
   "source": [
    "y_pred =  p1 - np.logical_and(p0>threshold, p0>p2) + np.logical_and(p2>threshold, p2>p0)"
   ]
  },
  {
   "cell_type": "markdown",
   "id": "673871dd",
   "metadata": {},
   "source": [
    "## Accuracy Precision Recall and F1 Score"
   ]
  },
  {
   "cell_type": "code",
   "execution_count": 22,
   "id": "317658a5",
   "metadata": {},
   "outputs": [],
   "source": [
    "tp0 = np.sum(np.logical_and(y_pred==0, y_test==0))\n",
    "tp1 = np.sum(np.logical_and(y_pred==1, y_test==1))\n",
    "tp2 = np.sum(np.logical_and(y_pred==2, y_test==2))\n",
    "\n",
    "tn0 = np.sum(np.logical_and(y_pred!=0, y_test!=0))\n",
    "tn1 = np.sum(np.logical_and(y_pred!=1, y_test!=1))\n",
    "tn2 = np.sum(np.logical_and(y_pred!=2, y_test!=2))\n",
    "\n",
    "fn0 = np.sum(np.logical_and(y_pred!=0, y_test==0))\n",
    "fn1 = np.sum(np.logical_and(y_pred!=1, y_test==1))\n",
    "fn2 = np.sum(np.logical_and(y_pred!=2, y_test==2))\n",
    "\n",
    "fp0 = np.sum(np.logical_and(y_pred==0, y_test!=0))\n",
    "fp1 = np.sum(np.logical_and(y_pred==1, y_test!=1))\n",
    "fp2 = np.sum(np.logical_and(y_pred==2, y_test!=2))\n",
    "\n",
    "n0 = np.sum(y_test==0)\n",
    "n1 = np.sum(y_test==1)\n",
    "n2 = np.sum(y_test==2)"
   ]
  },
  {
   "cell_type": "code",
   "execution_count": 23,
   "id": "97024c8e",
   "metadata": {},
   "outputs": [],
   "source": [
    "accuracy = (tp0 + tp1 + tp2 + tn0 + tn1 + tn2) / (tp0 + tp1 + tp2 + tn0 + tn1 + tn2 + fp0 + fp1 + fp2 + fn0 + fn1 + fn2)\n",
    "\n",
    "precision0 = tp0 / (tp0 + fp0) if (tp0 + fp0) > 0 else 0\n",
    "precision1 = tp1 / (tp1 + fp1) if (tp1 + fp1) > 0 else 0\n",
    "precision2 = tp2 / (tp2 + fp2) if (tp2 + fp2) > 0 else 0 \n",
    "\n",
    "precision_macro = (precision0 + precision1 + precision2) / 3\n",
    "precision_weighted = (n0 * precision0 + n1 * precision1 + n2 * precision2) / (n0 + n1 + n2)\n",
    "\n",
    "recall0 = tp0 / (tp0 + fn0) if (tp0 + fn0) > 0 else 0\n",
    "recall1 = tp1 / (tp1 + fn1) if (tp1 + fn1) > 0 else 0\n",
    "recall2 = tp2 / (tp2 + fn2) if (tp2 + fn2) > 0 else 0\n",
    "\n",
    "recall_macro = (recall0 + recall1 + recall2) / 3\n",
    "recall_weighted = (n0*recall0 + n1*recall1 + n2*recall2) / (n0 + n1 + n2)\n",
    "\n",
    "f1_0 = 2 * precision0 * recall0 / (precision0 + recall0) if (precision0 + recall0) > 0 else 0\n",
    "f1_1 = 2 * precision1 * recall1 / (precision1 + recall1) if (precision1 + recall1) > 0 else 0\n",
    "f1_2 = 2 * precision2 * recall2 / (precision2 + recall2) if (precision2 + recall2) > 0 else 0\n",
    "\n",
    "f1_macro = (f1_0 + f1_1 + f1_2) / 3\n",
    "f1_weighted = (n0*f1_0 + n1*f1_1 + n2*f1_2) / (n0 + n1 + n2)"
   ]
  },
  {
   "cell_type": "code",
   "execution_count": 24,
   "id": "3c9f6df8",
   "metadata": {},
   "outputs": [
    {
     "name": "stdout",
     "output_type": "stream",
     "text": [
      "Metric         Iris-setosa    Iris-versicolor     Iris-virginica      Macro     Weighted  \n",
      "------------------------------------------------------------------------------------------\n",
      "Precision      1.000          0.955               0.857               0.937     0.937     \n",
      "Recall         1.000          0.840               0.960               0.933     0.933     \n",
      "F1 Score       1.000          0.894               0.906               0.933     0.933     \n",
      "Accuracy       0.956          \n"
     ]
    }
   ],
   "source": [
    "print(f\"{'Metric':<15}{'Iris-setosa':<15}{'Iris-versicolor':<20}{'Iris-virginica':<20}{'Macro':<10}{'Weighted':<10}\")\n",
    "print(\"-\"*90)\n",
    "print(f\"{'Precision':<15}{precision0:<15.3f}{precision1:<20.3f}{precision2:<20.3f}{precision_macro:<10.3f}{precision_weighted:<10.3f}\")\n",
    "print(f\"{'Recall':<15}{recall0:<15.3f}{recall1:<20.3f}{recall2:<20.3f}{recall_macro:<10.3f}{recall_weighted:<10.3f}\")\n",
    "print(f\"{'F1 Score':<15}{f1_0:<15.3f}{f1_1:<20.3f}{f1_2:<20.3f}{f1_macro:<10.3f}{f1_weighted:<10.3f}\")\n",
    "print(f\"{'Accuracy':<15}{accuracy:<15.3f}\")"
   ]
  },
  {
   "cell_type": "code",
   "execution_count": 25,
   "id": "77d37aa7",
   "metadata": {},
   "outputs": [],
   "source": [
    "mapping = {0:'Iris-setosa', 1:'Iris-versicolor', 2:'Iris-virginica'}\n",
    "y_pred_in_object = np.vectorize(mapping.get)(y_pred)\n",
    "y_test_in_object = np.vectorize(mapping.get)(y_test)"
   ]
  }
 ],
 "metadata": {
  "kernelspec": {
   "display_name": ".venv (3.14.0)",
   "language": "python",
   "name": "python3"
  },
  "language_info": {
   "codemirror_mode": {
    "name": "ipython",
    "version": 3
   },
   "file_extension": ".py",
   "mimetype": "text/x-python",
   "name": "python",
   "nbconvert_exporter": "python",
   "pygments_lexer": "ipython3",
   "version": "3.14.0"
  }
 },
 "nbformat": 4,
 "nbformat_minor": 5
}
