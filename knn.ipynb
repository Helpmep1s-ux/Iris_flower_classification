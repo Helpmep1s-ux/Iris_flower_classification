{
 "cells": [
  {
   "cell_type": "code",
   "execution_count": 1,
   "id": "0f53cefc",
   "metadata": {},
   "outputs": [],
   "source": [
    "import pandas as pd\n",
    "import numpy as np\n",
    "from sklearn.model_selection import train_test_split\n",
    "from sklearn.metrics import accuracy_score, classification_report"
   ]
  },
  {
   "cell_type": "code",
   "execution_count": 2,
   "id": "9b5a9c64",
   "metadata": {},
   "outputs": [],
   "source": [
    "class KNN:\n",
    "    def __init__(self, k=3):\n",
    "        self.k = k\n",
    "        self.X_train = None\n",
    "        self.y_train = None\n",
    "\n",
    "\n",
    "    def fit(self, X, y):\n",
    "        self.X_train = X\n",
    "        self.y_train = y\n",
    "\n",
    "\n",
    "    def predict(self, X):\n",
    "        y_pred = []\n",
    "        for x in X:\n",
    "            distances = []\n",
    "            for x_train in self.X_train:\n",
    "                dist = 0\n",
    "                for i in range(len(x)):\n",
    "                    dist += (x[i] - x_train[i])**2\n",
    "                dist = np.sqrt(dist)\n",
    "                distances.append(dist)\n",
    "\n",
    "            k_indices = np.argsort(distances)[:self.k]\n",
    "            k_neighbor_values = self.y_train[k_indices]\n",
    "\n",
    "            values, counts = np.unique(k_neighbor_values, return_counts=True)\n",
    "            y_pred.append(values[np.argmax(counts)])\n",
    "        return np.array(y_pred)"
   ]
  },
  {
   "cell_type": "code",
   "execution_count": 3,
   "id": "b8a30873",
   "metadata": {},
   "outputs": [],
   "source": [
    "df = pd.read_csv('./train2.csv')"
   ]
  },
  {
   "cell_type": "code",
   "execution_count": 4,
   "id": "271d1361",
   "metadata": {},
   "outputs": [],
   "source": [
    "X = df.drop('class', axis=1).values\n",
    "y = df['class'].values"
   ]
  },
  {
   "cell_type": "code",
   "execution_count": 5,
   "id": "f0c0b36a",
   "metadata": {},
   "outputs": [],
   "source": [
    "X_train, X_test, y_train, y_test = train_test_split(X, y, test_size=0.2, random_state=10)"
   ]
  },
  {
   "cell_type": "code",
   "execution_count": 6,
   "id": "f800eac4",
   "metadata": {},
   "outputs": [],
   "source": [
    "knn = KNN(k=5)\n",
    "knn.fit(X_train, y_train)\n",
    "y_pred = knn.predict(X_test)"
   ]
  },
  {
   "cell_type": "code",
   "execution_count": 7,
   "id": "6895ff1d",
   "metadata": {},
   "outputs": [
    {
     "name": "stdout",
     "output_type": "stream",
     "text": [
      "KNN Accuracy: 0.967\n",
      "Classification Report:\n",
      "                  precision    recall  f1-score   support\n",
      "\n",
      "    Iris-setosa       1.00      1.00      1.00        10\n",
      "Iris-versicolor       1.00      0.92      0.96        13\n",
      " Iris-virginica       0.88      1.00      0.93         7\n",
      "\n",
      "       accuracy                           0.97        30\n",
      "      macro avg       0.96      0.97      0.96        30\n",
      "   weighted avg       0.97      0.97      0.97        30\n",
      "\n"
     ]
    }
   ],
   "source": [
    "print(f\"KNN Accuracy: {accuracy_score(y_test, y_pred):.3f}\")\n",
    "print(\"Classification Report:\\n\", classification_report(y_test, y_pred))"
   ]
  }
 ],
 "metadata": {
  "kernelspec": {
   "display_name": ".venv (3.14.0)",
   "language": "python",
   "name": "python3"
  },
  "language_info": {
   "codemirror_mode": {
    "name": "ipython",
    "version": 3
   },
   "file_extension": ".py",
   "mimetype": "text/x-python",
   "name": "python",
   "nbconvert_exporter": "python",
   "pygments_lexer": "ipython3",
   "version": "3.14.0"
  }
 },
 "nbformat": 4,
 "nbformat_minor": 5
}
